{
 "cells": [
  {
   "cell_type": "code",
   "execution_count": 1,
   "metadata": {},
   "outputs": [],
   "source": [
    "%matplotlib inline\n",
    "%load_ext dotenv\n",
    "%dotenv env.sh\n",
    "%run source/utils.py\n",
    "import matplotlib\n",
    "import matplotlib.pyplot as plt\n",
    "from skimage import exposure\n",
    "import pandas as pd\n",
    "import numpy as np\n",
    "import cytokit\n",
    "from cytokit.image.ops import describe\n",
    "import os\n",
    "import os.path as osp\n",
    "import tqdm"
   ]
  },
  {
   "cell_type": "code",
   "execution_count": 2,
   "metadata": {},
   "outputs": [
    {
     "data": {
      "text/html": [
       "<div>\n",
       "<style scoped>\n",
       "    .dataframe tbody tr th:only-of-type {\n",
       "        vertical-align: middle;\n",
       "    }\n",
       "\n",
       "    .dataframe tbody tr th {\n",
       "        vertical-align: top;\n",
       "    }\n",
       "\n",
       "    .dataframe thead th {\n",
       "        text-align: right;\n",
       "    }\n",
       "</style>\n",
       "<table border=\"1\" class=\"dataframe\">\n",
       "  <thead>\n",
       "    <tr style=\"text-align: right;\">\n",
       "      <th></th>\n",
       "      <th>name</th>\n",
       "      <th>conf</th>\n",
       "      <th>dir</th>\n",
       "      <th>grid</th>\n",
       "      <th>n_ch</th>\n",
       "      <th>n_tiles</th>\n",
       "      <th>n_z</th>\n",
       "      <th>cond</th>\n",
       "      <th>rep</th>\n",
       "      <th>z_pitch</th>\n",
       "    </tr>\n",
       "  </thead>\n",
       "  <tbody>\n",
       "    <tr>\n",
       "      <th>0</th>\n",
       "      <td>00.0mT-np-0uMsta-XY01</td>\n",
       "      <td>experiment.yaml</td>\n",
       "      <td>untreated-noTcells-2</td>\n",
       "      <td>XY01</td>\n",
       "      <td>4</td>\n",
       "      <td>33</td>\n",
       "      <td>8</td>\n",
       "      <td>00.0mT-np-0uMsta</td>\n",
       "      <td>1</td>\n",
       "      <td>200</td>\n",
       "    </tr>\n",
       "    <tr>\n",
       "      <th>1</th>\n",
       "      <td>00.0mT-np-0uMsta-XY02</td>\n",
       "      <td>experiment.yaml</td>\n",
       "      <td>untreated-noTcells-2</td>\n",
       "      <td>XY02</td>\n",
       "      <td>4</td>\n",
       "      <td>33</td>\n",
       "      <td>8</td>\n",
       "      <td>00.0mT-np-0uMsta</td>\n",
       "      <td>2</td>\n",
       "      <td>200</td>\n",
       "    </tr>\n",
       "    <tr>\n",
       "      <th>2</th>\n",
       "      <td>00.0mT-np-0uMsta-XY03</td>\n",
       "      <td>experiment.yaml</td>\n",
       "      <td>untreated-noTcells-2</td>\n",
       "      <td>XY03</td>\n",
       "      <td>4</td>\n",
       "      <td>33</td>\n",
       "      <td>7</td>\n",
       "      <td>00.0mT-np-0uMsta</td>\n",
       "      <td>3</td>\n",
       "      <td>200</td>\n",
       "    </tr>\n",
       "    <tr>\n",
       "      <th>3</th>\n",
       "      <td>02.5mT-np-0uMsta-XY01</td>\n",
       "      <td>experiment.yaml</td>\n",
       "      <td>025mioTcells-nopeptide</td>\n",
       "      <td>XY01</td>\n",
       "      <td>4</td>\n",
       "      <td>33</td>\n",
       "      <td>9</td>\n",
       "      <td>02.5mT-np-0uMsta</td>\n",
       "      <td>1</td>\n",
       "      <td>200</td>\n",
       "    </tr>\n",
       "    <tr>\n",
       "      <th>4</th>\n",
       "      <td>02.5mT-np-0uMsta-XY02</td>\n",
       "      <td>experiment.yaml</td>\n",
       "      <td>025mioTcells-nopeptide</td>\n",
       "      <td>XY02</td>\n",
       "      <td>4</td>\n",
       "      <td>33</td>\n",
       "      <td>8</td>\n",
       "      <td>02.5mT-np-0uMsta</td>\n",
       "      <td>2</td>\n",
       "      <td>200</td>\n",
       "    </tr>\n",
       "  </tbody>\n",
       "</table>\n",
       "</div>"
      ],
      "text/plain": [
       "                    name             conf                     dir  grid  n_ch  \\\n",
       "0  00.0mT-np-0uMsta-XY01  experiment.yaml    untreated-noTcells-2  XY01     4   \n",
       "1  00.0mT-np-0uMsta-XY02  experiment.yaml    untreated-noTcells-2  XY02     4   \n",
       "2  00.0mT-np-0uMsta-XY03  experiment.yaml    untreated-noTcells-2  XY03     4   \n",
       "3  02.5mT-np-0uMsta-XY01  experiment.yaml  025mioTcells-nopeptide  XY01     4   \n",
       "4  02.5mT-np-0uMsta-XY02  experiment.yaml  025mioTcells-nopeptide  XY02     4   \n",
       "\n",
       "   n_tiles  n_z              cond  rep  z_pitch  \n",
       "0       33    8  00.0mT-np-0uMsta    1      200  \n",
       "1       33    8  00.0mT-np-0uMsta    2      200  \n",
       "2       33    7  00.0mT-np-0uMsta    3      200  \n",
       "3       33    9  02.5mT-np-0uMsta    1      200  \n",
       "4       33    8  02.5mT-np-0uMsta    2      200  "
      ]
     },
     "execution_count": 2,
     "metadata": {},
     "output_type": "execute_result"
    }
   ],
   "source": [
    "df = pd.read_csv('experiments.csv')\n",
    "df.head()"
   ]
  },
  {
   "cell_type": "code",
   "execution_count": 4,
   "metadata": {},
   "outputs": [
    {
     "data": {
      "text/plain": [
       "'/lab/data/spheroid/ilastik/mc38/training/20x-s25-spheroid-body-02/hoechst-maxz'"
      ]
     },
     "execution_count": 4,
     "metadata": {},
     "output_type": "execute_result"
    }
   ],
   "source": [
    "export_dir = '/lab/data/spheroid/ilastik/mc38/training/20x-s25-spheroid-body-02/hoechst-maxz'\n",
    "export_dir"
   ]
  },
  {
   "cell_type": "code",
   "execution_count": 5,
   "metadata": {},
   "outputs": [
    {
     "name": "stderr",
     "output_type": "stream",
     "text": [
      "100%|██████████| 33/33 [27:39<00:00, 51.19s/it]\n"
     ]
    }
   ],
   "source": [
    "np.random.seed(0)\n",
    "\n",
    "def export_images(exp_name, images, export_dir, n_images=5):\n",
    "    idx = np.random.choice(np.arange(len(images)), size=n_images, replace=False)\n",
    "    images = [images[i] for i in idx]\n",
    "    for img, ti in images:\n",
    "        img = transform.rescale(img, .5, anti_aliasing=True, multichannel=False, mode='constant', preserve_range=True)\n",
    "        path = osp.join(export_dir, '{}-T{:03d}-X{:03d}-Y{:03d}.tif'.format(exp_name, ti.tile_index+1, ti.tile_x+1, ti.tile_y+1))\n",
    "        if not osp.exists(osp.dirname(path)):\n",
    "            os.makedirs(osp.dirname(path))\n",
    "        assert 0 <= img.min() <= img.max() <= 1\n",
    "        img = exposure.rescale_intensity(img, in_range=(0, 1), out_range=np.uint8).astype(np.uint8)\n",
    "        # Save image with original contrast, but downscaled to 25% (50% here and 50% in the original acquisition) with 8-bit depth\n",
    "        ck_io.save_image(path, img)\n",
    "\n",
    "for i, r in tqdm.tqdm(df.iterrows(), total=len(df)):\n",
    "    config = get_config(r)\n",
    "    raw_dir = osp.join(os.environ['EXP_GROUP_RAW_DIR'], r['dir'], r['grid'])\n",
    "    images = list(get_channel_maxz_images(config, raw_dir, 'HOECHST'))\n",
    "    export_images(r['name'], images, export_dir)"
   ]
  }
 ],
 "metadata": {
  "kernelspec": {
   "display_name": "Python 3",
   "language": "python",
   "name": "python3"
  },
  "language_info": {
   "codemirror_mode": {
    "name": "ipython",
    "version": 3
   },
   "file_extension": ".py",
   "mimetype": "text/x-python",
   "name": "python",
   "nbconvert_exporter": "python",
   "pygments_lexer": "ipython3",
   "version": "3.5.2"
  }
 },
 "nbformat": 4,
 "nbformat_minor": 4
}
