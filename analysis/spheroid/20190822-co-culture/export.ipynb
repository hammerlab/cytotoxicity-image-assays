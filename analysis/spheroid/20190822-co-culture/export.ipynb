{
 "cells": [
  {
   "cell_type": "markdown",
   "metadata": {},
   "source": [
    "## Image Export for Ilastik Training\n",
    "\n",
    "Export 5 random images from each experiment (as max-z BF projections) for annotation and classifier training."
   ]
  },
  {
   "cell_type": "code",
   "execution_count": 1,
   "metadata": {},
   "outputs": [],
   "source": [
    "%matplotlib inline\n",
    "%load_ext dotenv\n",
    "%dotenv env.sh\n",
    "%run source/utils.py\n",
    "import matplotlib\n",
    "import matplotlib.pyplot as plt\n",
    "from skimage import exposure\n",
    "import pandas as pd\n",
    "import numpy as np\n",
    "import cytokit\n",
    "from cytokit.image.ops import describe\n",
    "import os\n",
    "import os.path as osp\n",
    "import tqdm"
   ]
  },
  {
   "cell_type": "code",
   "execution_count": 2,
   "metadata": {},
   "outputs": [
    {
     "data": {
      "text/html": [
       "<div>\n",
       "<style scoped>\n",
       "    .dataframe tbody tr th:only-of-type {\n",
       "        vertical-align: middle;\n",
       "    }\n",
       "\n",
       "    .dataframe tbody tr th {\n",
       "        vertical-align: top;\n",
       "    }\n",
       "\n",
       "    .dataframe thead th {\n",
       "        text-align: right;\n",
       "    }\n",
       "</style>\n",
       "<table border=\"1\" class=\"dataframe\">\n",
       "  <thead>\n",
       "    <tr style=\"text-align: right;\">\n",
       "      <th></th>\n",
       "      <th>name</th>\n",
       "      <th>conf</th>\n",
       "      <th>dir</th>\n",
       "      <th>grid</th>\n",
       "      <th>n_ch</th>\n",
       "      <th>n_tiles</th>\n",
       "      <th>n_z</th>\n",
       "      <th>cond</th>\n",
       "      <th>rep</th>\n",
       "      <th>z_pitch</th>\n",
       "    </tr>\n",
       "  </thead>\n",
       "  <tbody>\n",
       "    <tr>\n",
       "      <th>0</th>\n",
       "      <td>0000kT-0uM-np-XY01-1</td>\n",
       "      <td>experiment.yaml</td>\n",
       "      <td>noTcells</td>\n",
       "      <td>XY01</td>\n",
       "      <td>4</td>\n",
       "      <td>33</td>\n",
       "      <td>9</td>\n",
       "      <td>0000kT-0uM-np</td>\n",
       "      <td>1</td>\n",
       "      <td>200</td>\n",
       "    </tr>\n",
       "    <tr>\n",
       "      <th>1</th>\n",
       "      <td>0000kT-0uM-np-XY02-2</td>\n",
       "      <td>experiment.yaml</td>\n",
       "      <td>noTcells</td>\n",
       "      <td>XY02</td>\n",
       "      <td>4</td>\n",
       "      <td>33</td>\n",
       "      <td>8</td>\n",
       "      <td>0000kT-0uM-np</td>\n",
       "      <td>2</td>\n",
       "      <td>200</td>\n",
       "    </tr>\n",
       "    <tr>\n",
       "      <th>2</th>\n",
       "      <td>0000kT-0uM-np-XY03-3</td>\n",
       "      <td>experiment.yaml</td>\n",
       "      <td>noTcells</td>\n",
       "      <td>XY03</td>\n",
       "      <td>4</td>\n",
       "      <td>33</td>\n",
       "      <td>8</td>\n",
       "      <td>0000kT-0uM-np</td>\n",
       "      <td>3</td>\n",
       "      <td>200</td>\n",
       "    </tr>\n",
       "    <tr>\n",
       "      <th>3</th>\n",
       "      <td>0000kT-4uM-np-XY01-1</td>\n",
       "      <td>experiment.yaml</td>\n",
       "      <td>4uMsta</td>\n",
       "      <td>XY01</td>\n",
       "      <td>4</td>\n",
       "      <td>33</td>\n",
       "      <td>7</td>\n",
       "      <td>0000kT-4uM-np</td>\n",
       "      <td>1</td>\n",
       "      <td>200</td>\n",
       "    </tr>\n",
       "    <tr>\n",
       "      <th>4</th>\n",
       "      <td>0000kT-4uM-np-XY02-2</td>\n",
       "      <td>experiment.yaml</td>\n",
       "      <td>4uMsta</td>\n",
       "      <td>XY02</td>\n",
       "      <td>4</td>\n",
       "      <td>33</td>\n",
       "      <td>10</td>\n",
       "      <td>0000kT-4uM-np</td>\n",
       "      <td>2</td>\n",
       "      <td>200</td>\n",
       "    </tr>\n",
       "  </tbody>\n",
       "</table>\n",
       "</div>"
      ],
      "text/plain": [
       "                   name             conf       dir  grid  n_ch  n_tiles  n_z  \\\n",
       "0  0000kT-0uM-np-XY01-1  experiment.yaml  noTcells  XY01     4       33    9   \n",
       "1  0000kT-0uM-np-XY02-2  experiment.yaml  noTcells  XY02     4       33    8   \n",
       "2  0000kT-0uM-np-XY03-3  experiment.yaml  noTcells  XY03     4       33    8   \n",
       "3  0000kT-4uM-np-XY01-1  experiment.yaml    4uMsta  XY01     4       33    7   \n",
       "4  0000kT-4uM-np-XY02-2  experiment.yaml    4uMsta  XY02     4       33   10   \n",
       "\n",
       "            cond  rep  z_pitch  \n",
       "0  0000kT-0uM-np    1      200  \n",
       "1  0000kT-0uM-np    2      200  \n",
       "2  0000kT-0uM-np    3      200  \n",
       "3  0000kT-4uM-np    1      200  \n",
       "4  0000kT-4uM-np    2      200  "
      ]
     },
     "execution_count": 2,
     "metadata": {},
     "output_type": "execute_result"
    }
   ],
   "source": [
    "df = pd.read_csv('experiments.csv')\n",
    "df.head()"
   ]
  },
  {
   "cell_type": "code",
   "execution_count": 3,
   "metadata": {},
   "outputs": [
    {
     "data": {
      "text/plain": [
       "'/lab/data/spheroid/ilastik/mc38/training/20x-s25-spheroid-body-03/bf-maxz'"
      ]
     },
     "execution_count": 3,
     "metadata": {},
     "output_type": "execute_result"
    }
   ],
   "source": [
    "export_dir = '/lab/data/spheroid/ilastik/mc38/training/20x-s25-spheroid-body-03/bf-maxz'\n",
    "export_dir"
   ]
  },
  {
   "cell_type": "code",
   "execution_count": 4,
   "metadata": {},
   "outputs": [
    {
     "name": "stderr",
     "output_type": "stream",
     "text": [
      "100%|██████████| 35/35 [1:31:03<00:00, 159.55s/it]\n"
     ]
    }
   ],
   "source": [
    "np.random.seed(0)\n",
    "\n",
    "def export_images(exp_name, images, export_dir, n_images=5):\n",
    "    idx = np.random.choice(np.arange(len(images)), size=n_images, replace=False)\n",
    "    images = [images[i] for i in idx]\n",
    "    for img, ti in images:\n",
    "        # Target size is 25% in both dimensions\n",
    "        img = transform.rescale(img, .25, anti_aliasing=True, multichannel=False, mode='constant', preserve_range=True)\n",
    "        path = osp.join(export_dir, '{}-T{:03d}-X{:03d}-Y{:03d}.tif'.format(exp_name, ti.tile_index+1, ti.tile_x+1, ti.tile_y+1))\n",
    "        if not osp.exists(osp.dirname(path)):\n",
    "            os.makedirs(osp.dirname(path))\n",
    "        assert 0 <= img.min() <= img.max() <= 1\n",
    "        img = exposure.rescale_intensity(img, in_range=(0, 1), out_range=np.uint8).astype(np.uint8)\n",
    "        # Save image with original contrast, but downscaled to 25% (50% here and 50% in the original acquisition) with 8-bit depth\n",
    "        ck_io.save_image(path, img)\n",
    "\n",
    "for i, r in tqdm.tqdm(df.iterrows(), total=len(df)):\n",
    "    config = get_config(r)\n",
    "    raw_dir = osp.join(os.environ['EXP_GROUP_RAW_DIR'], r['dir'], r['grid'])\n",
    "    # images = list(get_channel_maxz_images(config, raw_dir, 'HOECHST'))\n",
    "    images = list(get_channel_maxz_images(config, raw_dir, 'BF'))\n",
    "    export_images(r['name'], images, export_dir)"
   ]
  }
 ],
 "metadata": {
  "kernelspec": {
   "display_name": "Python 3",
   "language": "python",
   "name": "python3"
  },
  "language_info": {
   "codemirror_mode": {
    "name": "ipython",
    "version": 3
   },
   "file_extension": ".py",
   "mimetype": "text/x-python",
   "name": "python",
   "nbconvert_exporter": "python",
   "pygments_lexer": "ipython3",
   "version": "3.5.2"
  }
 },
 "nbformat": 4,
 "nbformat_minor": 4
}
